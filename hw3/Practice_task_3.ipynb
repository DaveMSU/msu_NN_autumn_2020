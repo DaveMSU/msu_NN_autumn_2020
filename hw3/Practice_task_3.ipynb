{
  "nbformat": 4,
  "nbformat_minor": 0,
  "metadata": {
    "kernelspec": {
      "display_name": "Python 3",
      "language": "python",
      "name": "python3"
    },
    "language_info": {
      "codemirror_mode": {
        "name": "ipython",
        "version": 3
      },
      "file_extension": ".py",
      "mimetype": "text/x-python",
      "name": "python",
      "nbconvert_exporter": "python",
      "pygments_lexer": "ipython3",
      "version": "3.7.4"
    },
    "colab": {
      "name": "Practice_task_3.ipynb",
      "provenance": [],
      "collapsed_sections": [],
      "toc_visible": true,
      "include_colab_link": true
    },
    "accelerator": "GPU",
    "widgets": {
      "application/vnd.jupyter.widget-state+json": {
        "0adb11191cc64321ab72b0640bcb3bfa": {
          "model_module": "@jupyter-widgets/controls",
          "model_name": "HBoxModel",
          "state": {
            "_view_name": "HBoxView",
            "_dom_classes": [],
            "_model_name": "HBoxModel",
            "_view_module": "@jupyter-widgets/controls",
            "_model_module_version": "1.5.0",
            "_view_count": null,
            "_view_module_version": "1.5.0",
            "box_style": "",
            "layout": "IPY_MODEL_c6564991510e45cd8336a0e92b22e0ca",
            "_model_module": "@jupyter-widgets/controls",
            "children": [
              "IPY_MODEL_5e64bf908f3040d7b2424e54cfafbece",
              "IPY_MODEL_1b79fc758f5c4c37bc04f1c59b51ea68"
            ]
          }
        },
        "c6564991510e45cd8336a0e92b22e0ca": {
          "model_module": "@jupyter-widgets/base",
          "model_name": "LayoutModel",
          "state": {
            "_view_name": "LayoutView",
            "grid_template_rows": null,
            "right": null,
            "justify_content": null,
            "_view_module": "@jupyter-widgets/base",
            "overflow": null,
            "_model_module_version": "1.2.0",
            "_view_count": null,
            "flex_flow": null,
            "width": null,
            "min_width": null,
            "border": null,
            "align_items": null,
            "bottom": null,
            "_model_module": "@jupyter-widgets/base",
            "top": null,
            "grid_column": null,
            "overflow_y": null,
            "overflow_x": null,
            "grid_auto_flow": null,
            "grid_area": null,
            "grid_template_columns": null,
            "flex": null,
            "_model_name": "LayoutModel",
            "justify_items": null,
            "grid_row": null,
            "max_height": null,
            "align_content": null,
            "visibility": null,
            "align_self": null,
            "height": null,
            "min_height": null,
            "padding": null,
            "grid_auto_rows": null,
            "grid_gap": null,
            "max_width": null,
            "order": null,
            "_view_module_version": "1.2.0",
            "grid_template_areas": null,
            "object_position": null,
            "object_fit": null,
            "grid_auto_columns": null,
            "margin": null,
            "display": null,
            "left": null
          }
        },
        "5e64bf908f3040d7b2424e54cfafbece": {
          "model_module": "@jupyter-widgets/controls",
          "model_name": "FloatProgressModel",
          "state": {
            "_view_name": "ProgressView",
            "style": "IPY_MODEL_44cffe8ad49f4e578256f15d3d1f6e6c",
            "_dom_classes": [],
            "description": "100%",
            "_model_name": "FloatProgressModel",
            "bar_style": "success",
            "max": 46827520,
            "_view_module": "@jupyter-widgets/controls",
            "_model_module_version": "1.5.0",
            "value": 46827520,
            "_view_count": null,
            "_view_module_version": "1.5.0",
            "orientation": "horizontal",
            "min": 0,
            "description_tooltip": null,
            "_model_module": "@jupyter-widgets/controls",
            "layout": "IPY_MODEL_3bf27cf5b0d749ce902e3fb5c51d69e7"
          }
        },
        "1b79fc758f5c4c37bc04f1c59b51ea68": {
          "model_module": "@jupyter-widgets/controls",
          "model_name": "HTMLModel",
          "state": {
            "_view_name": "HTMLView",
            "style": "IPY_MODEL_1b9e3a62e4cc4153bf6436fd5c5351c1",
            "_dom_classes": [],
            "description": "",
            "_model_name": "HTMLModel",
            "placeholder": "​",
            "_view_module": "@jupyter-widgets/controls",
            "_model_module_version": "1.5.0",
            "value": " 44.7M/44.7M [03:11&lt;00:00, 245kB/s]",
            "_view_count": null,
            "_view_module_version": "1.5.0",
            "description_tooltip": null,
            "_model_module": "@jupyter-widgets/controls",
            "layout": "IPY_MODEL_79eefa8ad968477dbd327a9d8f3c41bf"
          }
        },
        "44cffe8ad49f4e578256f15d3d1f6e6c": {
          "model_module": "@jupyter-widgets/controls",
          "model_name": "ProgressStyleModel",
          "state": {
            "_view_name": "StyleView",
            "_model_name": "ProgressStyleModel",
            "description_width": "initial",
            "_view_module": "@jupyter-widgets/base",
            "_model_module_version": "1.5.0",
            "_view_count": null,
            "_view_module_version": "1.2.0",
            "bar_color": null,
            "_model_module": "@jupyter-widgets/controls"
          }
        },
        "3bf27cf5b0d749ce902e3fb5c51d69e7": {
          "model_module": "@jupyter-widgets/base",
          "model_name": "LayoutModel",
          "state": {
            "_view_name": "LayoutView",
            "grid_template_rows": null,
            "right": null,
            "justify_content": null,
            "_view_module": "@jupyter-widgets/base",
            "overflow": null,
            "_model_module_version": "1.2.0",
            "_view_count": null,
            "flex_flow": null,
            "width": null,
            "min_width": null,
            "border": null,
            "align_items": null,
            "bottom": null,
            "_model_module": "@jupyter-widgets/base",
            "top": null,
            "grid_column": null,
            "overflow_y": null,
            "overflow_x": null,
            "grid_auto_flow": null,
            "grid_area": null,
            "grid_template_columns": null,
            "flex": null,
            "_model_name": "LayoutModel",
            "justify_items": null,
            "grid_row": null,
            "max_height": null,
            "align_content": null,
            "visibility": null,
            "align_self": null,
            "height": null,
            "min_height": null,
            "padding": null,
            "grid_auto_rows": null,
            "grid_gap": null,
            "max_width": null,
            "order": null,
            "_view_module_version": "1.2.0",
            "grid_template_areas": null,
            "object_position": null,
            "object_fit": null,
            "grid_auto_columns": null,
            "margin": null,
            "display": null,
            "left": null
          }
        },
        "1b9e3a62e4cc4153bf6436fd5c5351c1": {
          "model_module": "@jupyter-widgets/controls",
          "model_name": "DescriptionStyleModel",
          "state": {
            "_view_name": "StyleView",
            "_model_name": "DescriptionStyleModel",
            "description_width": "",
            "_view_module": "@jupyter-widgets/base",
            "_model_module_version": "1.5.0",
            "_view_count": null,
            "_view_module_version": "1.2.0",
            "_model_module": "@jupyter-widgets/controls"
          }
        },
        "79eefa8ad968477dbd327a9d8f3c41bf": {
          "model_module": "@jupyter-widgets/base",
          "model_name": "LayoutModel",
          "state": {
            "_view_name": "LayoutView",
            "grid_template_rows": null,
            "right": null,
            "justify_content": null,
            "_view_module": "@jupyter-widgets/base",
            "overflow": null,
            "_model_module_version": "1.2.0",
            "_view_count": null,
            "flex_flow": null,
            "width": null,
            "min_width": null,
            "border": null,
            "align_items": null,
            "bottom": null,
            "_model_module": "@jupyter-widgets/base",
            "top": null,
            "grid_column": null,
            "overflow_y": null,
            "overflow_x": null,
            "grid_auto_flow": null,
            "grid_area": null,
            "grid_template_columns": null,
            "flex": null,
            "_model_name": "LayoutModel",
            "justify_items": null,
            "grid_row": null,
            "max_height": null,
            "align_content": null,
            "visibility": null,
            "align_self": null,
            "height": null,
            "min_height": null,
            "padding": null,
            "grid_auto_rows": null,
            "grid_gap": null,
            "max_width": null,
            "order": null,
            "_view_module_version": "1.2.0",
            "grid_template_areas": null,
            "object_position": null,
            "object_fit": null,
            "grid_auto_columns": null,
            "margin": null,
            "display": null,
            "left": null
          }
        }
      }
    }
  },
  "cells": [
    {
      "cell_type": "markdown",
      "metadata": {
        "id": "view-in-github",
        "colab_type": "text"
      },
      "source": [
        "<a href=\"https://colab.research.google.com/github/DaveMSU/msu_NN_autumn_2020/blob/main/hw3/Practice_task_3.ipynb\" target=\"_parent\"><img src=\"https://colab.research.google.com/assets/colab-badge.svg\" alt=\"Open In Colab\"/></a>"
      ]
    },
    {
      "cell_type": "markdown",
      "metadata": {
        "id": "Sqw6TW4ywzCa"
      },
      "source": [
        "## Семинар 3 \"Определение ключевых точек лица\""
      ]
    },
    {
      "cell_type": "markdown",
      "metadata": {
        "id": "2wQV7qlLwzCc"
      },
      "source": [
        "## Задание"
      ]
    },
    {
      "cell_type": "markdown",
      "metadata": {
        "id": "5ktJ1KNiwzCe"
      },
      "source": [
        "Используя датасет из архива решите задачу регрессии для поиска 68-ми ключевых точек лица. \n",
        "\n",
        "Для обучения и валидации используйте изображения и разметку из папок train и test соответственно.\n",
        "\n",
        "Для **зачета** дз нужно сделать одно из двух:\n",
        "\n",
        "1. Исследовать 6 разных архитектур и написать подробный вывод + мысли почему одна сеть работает лучше чем другая (разные функции активации, глубины сетей, размеры и типы слоев)\n",
        "2. Преодолеть порог MSE=8 на тесте\n",
        "\n",
        "\n",
        "Также до  21 октября 23:59 можно получить до 5 дополнительных баллов за лучшее решение. (За первое место 5 баллов, за второе — 3 балла, за третье — 1 балла.)\n",
        "\n",
        "Для решения можно пользоваться всем инструментарием, с которым мы познакомимся:  предобученные модели, сверточные сети, любые оптимизаторы, batchnorm, dropout, etc."
      ]
    },
    {
      "cell_type": "code",
      "metadata": {
        "id": "XHPDAvBQwzCg",
        "outputId": "80495d21-a0aa-41a1-8d88-234fcd3a4b49",
        "colab": {
          "base_uri": "https://localhost:8080/",
          "height": 173
        }
      },
      "source": [
        "!pip install pytorch-ignite"
      ],
      "execution_count": 1,
      "outputs": [
        {
          "output_type": "stream",
          "text": [
            "Collecting pytorch-ignite\n",
            "\u001b[?25l  Downloading https://files.pythonhosted.org/packages/14/98/0a5b83d82ff245d3de5f09808fb80ff0ed03f6b10933979e6018b1dd0eaa/pytorch_ignite-0.4.2-py2.py3-none-any.whl (175kB)\n",
            "\r\u001b[K     |█▉                              | 10kB 23.8MB/s eta 0:00:01\r\u001b[K     |███▊                            | 20kB 6.1MB/s eta 0:00:01\r\u001b[K     |█████▋                          | 30kB 7.4MB/s eta 0:00:01\r\u001b[K     |███████▌                        | 40kB 8.0MB/s eta 0:00:01\r\u001b[K     |█████████▍                      | 51kB 6.6MB/s eta 0:00:01\r\u001b[K     |███████████▏                    | 61kB 7.1MB/s eta 0:00:01\r\u001b[K     |█████████████                   | 71kB 7.6MB/s eta 0:00:01\r\u001b[K     |███████████████                 | 81kB 8.5MB/s eta 0:00:01\r\u001b[K     |████████████████▉               | 92kB 7.6MB/s eta 0:00:01\r\u001b[K     |██████████████████▊             | 102kB 7.8MB/s eta 0:00:01\r\u001b[K     |████████████████████▌           | 112kB 7.8MB/s eta 0:00:01\r\u001b[K     |██████████████████████▍         | 122kB 7.8MB/s eta 0:00:01\r\u001b[K     |████████████████████████▎       | 133kB 7.8MB/s eta 0:00:01\r\u001b[K     |██████████████████████████▏     | 143kB 7.8MB/s eta 0:00:01\r\u001b[K     |████████████████████████████    | 153kB 7.8MB/s eta 0:00:01\r\u001b[K     |█████████████████████████████▉  | 163kB 7.8MB/s eta 0:00:01\r\u001b[K     |███████████████████████████████▊| 174kB 7.8MB/s eta 0:00:01\r\u001b[K     |████████████████████████████████| 184kB 7.8MB/s \n",
            "\u001b[?25hRequirement already satisfied: torch<2,>=1.3 in /usr/local/lib/python3.6/dist-packages (from pytorch-ignite) (1.6.0+cu101)\n",
            "Requirement already satisfied: numpy in /usr/local/lib/python3.6/dist-packages (from torch<2,>=1.3->pytorch-ignite) (1.18.5)\n",
            "Requirement already satisfied: future in /usr/local/lib/python3.6/dist-packages (from torch<2,>=1.3->pytorch-ignite) (0.16.0)\n",
            "Installing collected packages: pytorch-ignite\n",
            "Successfully installed pytorch-ignite-0.4.2\n"
          ],
          "name": "stdout"
        }
      ]
    },
    {
      "cell_type": "code",
      "metadata": {
        "id": "-YxF_OwywzCq",
        "outputId": "03983a60-7119-4614-d5a2-50b7a140b199",
        "colab": {
          "base_uri": "https://localhost:8080/",
          "height": 190
        }
      },
      "source": [
        "!pip install tensorboardX\n",
        "%matplotlib inline\n",
        "import os\n",
        "import torch\n",
        "import sys\n",
        "import pandas as pd\n",
        "from skimage import io, transform\n",
        "import numpy as np\n",
        "import matplotlib.pyplot as plt\n",
        "from torch.utils.data import Dataset, DataLoader\n",
        "from torchvision import transforms, utils\n",
        "from torch.nn import MSELoss, Sequential, Linear, Sigmoid, Tanh, L1Loss, Module, Parameter\n",
        "from torch.autograd import Variable\n",
        "# Ignore warnings\n",
        "import warnings\n",
        "\n",
        "try:\n",
        "    from tensorboardX import SummaryWriter\n",
        "except ImportError:\n",
        "    raise RuntimeError(\"No tensorboardX package is found. Please install with the command: \\npip install tensorboardX\")\n",
        "\n",
        "from ignite.engine import Events, create_supervised_trainer, create_supervised_evaluator\n",
        "from ignite.metrics import Accuracy, Loss"
      ],
      "execution_count": 2,
      "outputs": [
        {
          "output_type": "stream",
          "text": [
            "Collecting tensorboardX\n",
            "\u001b[?25l  Downloading https://files.pythonhosted.org/packages/af/0c/4f41bcd45db376e6fe5c619c01100e9b7531c55791b7244815bac6eac32c/tensorboardX-2.1-py2.py3-none-any.whl (308kB)\n",
            "\r\u001b[K     |█                               | 10kB 22.2MB/s eta 0:00:01\r\u001b[K     |██▏                             | 20kB 6.1MB/s eta 0:00:01\r\u001b[K     |███▏                            | 30kB 7.4MB/s eta 0:00:01\r\u001b[K     |████▎                           | 40kB 8.4MB/s eta 0:00:01\r\u001b[K     |█████▎                          | 51kB 6.9MB/s eta 0:00:01\r\u001b[K     |██████▍                         | 61kB 7.5MB/s eta 0:00:01\r\u001b[K     |███████▍                        | 71kB 8.5MB/s eta 0:00:01\r\u001b[K     |████████▌                       | 81kB 8.8MB/s eta 0:00:01\r\u001b[K     |█████████▌                      | 92kB 8.6MB/s eta 0:00:01\r\u001b[K     |██████████▋                     | 102kB 9.1MB/s eta 0:00:01\r\u001b[K     |███████████▊                    | 112kB 9.1MB/s eta 0:00:01\r\u001b[K     |████████████▊                   | 122kB 9.1MB/s eta 0:00:01\r\u001b[K     |█████████████▉                  | 133kB 9.1MB/s eta 0:00:01\r\u001b[K     |██████████████▉                 | 143kB 9.1MB/s eta 0:00:01\r\u001b[K     |████████████████                | 153kB 9.1MB/s eta 0:00:01\r\u001b[K     |█████████████████               | 163kB 9.1MB/s eta 0:00:01\r\u001b[K     |██████████████████              | 174kB 9.1MB/s eta 0:00:01\r\u001b[K     |███████████████████             | 184kB 9.1MB/s eta 0:00:01\r\u001b[K     |████████████████████▏           | 194kB 9.1MB/s eta 0:00:01\r\u001b[K     |█████████████████████▎          | 204kB 9.1MB/s eta 0:00:01\r\u001b[K     |██████████████████████▎         | 215kB 9.1MB/s eta 0:00:01\r\u001b[K     |███████████████████████▍        | 225kB 9.1MB/s eta 0:00:01\r\u001b[K     |████████████████████████▍       | 235kB 9.1MB/s eta 0:00:01\r\u001b[K     |█████████████████████████▌      | 245kB 9.1MB/s eta 0:00:01\r\u001b[K     |██████████████████████████▌     | 256kB 9.1MB/s eta 0:00:01\r\u001b[K     |███████████████████████████▋    | 266kB 9.1MB/s eta 0:00:01\r\u001b[K     |████████████████████████████▋   | 276kB 9.1MB/s eta 0:00:01\r\u001b[K     |█████████████████████████████▊  | 286kB 9.1MB/s eta 0:00:01\r\u001b[K     |██████████████████████████████▊ | 296kB 9.1MB/s eta 0:00:01\r\u001b[K     |███████████████████████████████▉| 307kB 9.1MB/s eta 0:00:01\r\u001b[K     |████████████████████████████████| 317kB 9.1MB/s \n",
            "\u001b[?25hRequirement already satisfied: protobuf>=3.8.0 in /usr/local/lib/python3.6/dist-packages (from tensorboardX) (3.12.4)\n",
            "Requirement already satisfied: numpy in /usr/local/lib/python3.6/dist-packages (from tensorboardX) (1.18.5)\n",
            "Requirement already satisfied: six in /usr/local/lib/python3.6/dist-packages (from tensorboardX) (1.15.0)\n",
            "Requirement already satisfied: setuptools in /usr/local/lib/python3.6/dist-packages (from protobuf>=3.8.0->tensorboardX) (50.3.0)\n",
            "Installing collected packages: tensorboardX\n",
            "Successfully installed tensorboardX-2.1\n"
          ],
          "name": "stdout"
        }
      ]
    },
    {
      "cell_type": "code",
      "metadata": {
        "id": "5Wj7n4JeIeW3",
        "outputId": "95aa9f7f-7464-4c1c-e35e-49a4b8c90098",
        "colab": {
          "base_uri": "https://localhost:8080/",
          "height": 34
        }
      },
      "source": [
        "#Доступ к диску:\n",
        "from google.colab import drive\n",
        "drive.mount('/content/drive')"
      ],
      "execution_count": 3,
      "outputs": [
        {
          "output_type": "stream",
          "text": [
            "Mounted at /content/drive\n"
          ],
          "name": "stdout"
        }
      ]
    },
    {
      "cell_type": "code",
      "metadata": {
        "id": "OShtZr0KwzC3",
        "outputId": "b13a9731-d19c-482d-fa71-7bfb5916e40b",
        "colab": {
          "base_uri": "https://localhost:8080/",
          "height": 370
        }
      },
      "source": [
        "warnings.filterwarnings(\"ignore\")\n",
        "\n",
        "landmarks_frame = pd.read_csv('/content/drive/My Drive/dataset/train/face_landmarks.csv')\n",
        "\n",
        "n = 100\n",
        "img_name = landmarks_frame.values[n, 0]\n",
        "landmarks = landmarks_frame.values[n, 1:].astype('float')\n",
        "landmarks = landmarks.reshape(-1, 2)\n",
        "\n",
        "print('Image name: {}'.format(img_name))\n",
        "print('Landmarks shape: {}'.format(landmarks.shape))\n",
        "print('First 4 Landmarks: {}'.format(landmarks[:4]))\n",
        "\n",
        "def show_landmarks(image, landmarks):\n",
        "    \"\"\"Show image with landmarks\"\"\"\n",
        "    plt.imshow(image, cmap='gray')\n",
        "    plt.scatter(landmarks[:, 0], landmarks[:, 1], s=10, marker='.', c='red', cmap='rgb')\n",
        "    plt.pause(0.001)  \n",
        "\n",
        "plt.figure()\n",
        "show_landmarks(io.imread(os.path.join('/content/drive/My Drive/dataset/train/', img_name)),\n",
        "               landmarks)\n",
        "plt.show()"
      ],
      "execution_count": 4,
      "outputs": [
        {
          "output_type": "stream",
          "text": [
            "Image name: 109.jpeg\n",
            "Landmarks shape: (68, 2)\n",
            "First 4 Landmarks: [[ 7. 41.]\n",
            " [ 8. 51.]\n",
            " [10. 60.]\n",
            " [13. 70.]]\n"
          ],
          "name": "stdout"
        },
        {
          "output_type": "display_data",
          "data": {
            "image/png": "[encoded data removed]",
            "text/plain": [
              "<Figure size 432x288 with 1 Axes>"
            ]
          },
          "metadata": {
            "tags": [],
            "needs_background": "light"
          }
        }
      ]
    },
    {
      "cell_type": "code",
      "metadata": {
        "id": "yOwJDQk-wzDC"
      },
      "source": [
        "def show_landmarks_batch(sample_batch, y_pred=None):\n",
        "    \"\"\"Show image with landmarks for a batch of samples.\"\"\"\n",
        "    images_batch, landmarks_batch = \\\n",
        "            sample_batch\n",
        "    batch_size = len(images_batch)\n",
        "    im_size = images_batch.size(2)\n",
        "\n",
        "    grid = utils.make_grid(images_batch)\n",
        "    print(images_batch.numpy().shape)\n",
        "    plt.imshow(grid.numpy().transpose(1,0,2).reshape(im_size, -1), cmap=\"gray\")\n",
        "\n",
        "    for i in range(batch_size):\n",
        "        plt.scatter(landmarks_batch[i, :, 0].numpy() + i * im_size,\n",
        "                    landmarks_batch[i, :, 1].numpy(),\n",
        "                    s=10, marker='.', c='r', label='Real')\n",
        "\n",
        "    if type(y_pred) != type(None):\n",
        "        for i in range(batch_size):\n",
        "            plt.scatter(y_pred[i, :, 0] + i * im_size,\n",
        "                        y_pred[i, :, 1],\n",
        "                        s=10, marker='.', c='b',  label='Prediction')\n",
        "        plt.title('Batch from dataloader')\n",
        "    plt.legend()"
      ],
      "execution_count": 5,
      "outputs": []
    },
    {
      "cell_type": "code",
      "metadata": {
        "id": "2pu9bU95wzDJ"
      },
      "source": [
        "class FaceLandmarksDataset(Dataset):\n",
        "    \"\"\"Face Landmarks dataset.\"\"\"\n",
        "\n",
        "    def __init__(self, csv_file, root_dir, transform=None):\n",
        "        \"\"\"\n",
        "        Args:\n",
        "            csv_file (string): Path to the csv file with annotations.\n",
        "            root_dir (string): Directory with all the images.\n",
        "            transform (callable, optional): Optional transform to be applied\n",
        "                on a sample.\n",
        "        \"\"\"\n",
        "        self.landmarks_frame = pd.read_csv(csv_file)\n",
        "        self.root_dir = root_dir\n",
        "        self.transform = transform\n",
        "\n",
        "    def __len__(self):\n",
        "        return len(self.landmarks_frame)\n",
        "\n",
        "    def __getitem__(self, idx):\n",
        "        img_name = os.path.join(self.root_dir, self.landmarks_frame.iloc[idx, 0])\n",
        "        image = io.imread(img_name)\n",
        "        landmarks = self.landmarks_frame.iloc[idx, 1:].values.astype('float')\n",
        "        landmarks = landmarks.reshape(-1, 2)\n",
        "        sample = image, landmarks\n",
        "\n",
        "        if self.transform:\n",
        "            sample = self.transform(sample)\n",
        "\n",
        "        return sample"
      ],
      "execution_count": 6,
      "outputs": []
    },
    {
      "cell_type": "code",
      "metadata": {
        "id": "jS3d8J6ywzDS"
      },
      "source": [
        "class RandomCrop(object):\n",
        "    \"\"\"Crop randomly the image in a sample.\n",
        "\n",
        "    Args:\n",
        "        output_size (tuple or int): Desired output size. If int, square crop\n",
        "            is made.\n",
        "    \"\"\"\n",
        "\n",
        "    def __init__(self, output_size):\n",
        "        assert isinstance(output_size, (int, tuple))\n",
        "        if isinstance(output_size, int):\n",
        "            self.output_size = (output_size, output_size)\n",
        "        else:\n",
        "            assert len(output_size) == 2\n",
        "            self.output_size = output_size\n",
        "\n",
        "    def __call__(self, sample):\n",
        "        image, landmarks = sample\n",
        "\n",
        "        h, w = image.shape[:2]\n",
        "        new_h, new_w = self.output_size\n",
        "\n",
        "        top = np.random.randint(0, h - new_h)\n",
        "        left = np.random.randint(0, w - new_w)\n",
        "\n",
        "        image = image[top: top + new_h,\n",
        "                      left: left + new_w]\n",
        "\n",
        "        landmarks = landmarks - [left, top]\n",
        "\n",
        "        return image, landmarks\n",
        "\n",
        "\n",
        "\n",
        "\n",
        "class ToTensor(object):\n",
        "    \"\"\"Convert ndarrays in sample to Tensors.\"\"\"\n",
        "\n",
        "    def __call__(self, sample):\n",
        "        image, landmarks = sample\n",
        "        return torch.from_numpy(image).type(torch.float), torch.from_numpy(landmarks).type(torch.float)"
      ],
      "execution_count": 7,
      "outputs": []
    },
    {
      "cell_type": "code",
      "metadata": {
        "id": "T0TYK8-mwzDZ"
      },
      "source": [
        "train_dataset = FaceLandmarksDataset(csv_file='/content/drive/My Drive/dataset/train/face_landmarks.csv',\n",
        "                                     root_dir='/content/drive/My Drive/dataset/train',\n",
        "                                     transform=ToTensor())\n",
        "\n",
        "test_dataset = FaceLandmarksDataset(csv_file='/content/drive/My Drive/dataset/test/face_landmarks.csv',\n",
        "                                     root_dir='/content/drive/My Drive/dataset/test',\n",
        "                                     transform=ToTensor())"
      ],
      "execution_count": 8,
      "outputs": []
    },
    {
      "cell_type": "code",
      "metadata": {
        "id": "MQtOWXW-wzDl"
      },
      "source": [
        "def get_data_loaders(train_batch_size=64, val_batch_size=64):\n",
        "\n",
        "    train_loader = DataLoader(\n",
        "        train_dataset, batch_size=train_batch_size, shuffle=True\n",
        "    )\n",
        "\n",
        "    test_loader = DataLoader(\n",
        "        test_dataset, batch_size=val_batch_size, shuffle=False\n",
        "    )\n",
        "\n",
        "    return train_loader, test_loader"
      ],
      "execution_count": 9,
      "outputs": []
    },
    {
      "cell_type": "code",
      "metadata": {
        "id": "26B0uSRFwzDu"
      },
      "source": [
        "from torchvision import models"
      ],
      "execution_count": 10,
      "outputs": []
    },
    {
      "cell_type": "code",
      "metadata": {
        "id": "yKC9QGmHwzD6",
        "outputId": "eb9e866a-ded2-416b-d497-1a2a69e10f6e",
        "colab": {
          "base_uri": "https://localhost:8080/",
          "height": 83,
          "referenced_widgets": [
            "0adb11191cc64321ab72b0640bcb3bfa",
            "c6564991510e45cd8336a0e92b22e0ca",
            "5e64bf908f3040d7b2424e54cfafbece",
            "1b79fc758f5c4c37bc04f1c59b51ea68",
            "44cffe8ad49f4e578256f15d3d1f6e6c",
            "3bf27cf5b0d749ce902e3fb5c51d69e7",
            "1b9e3a62e4cc4153bf6436fd5c5351c1",
            "79eefa8ad968477dbd327a9d8f3c41bf"
          ]
        }
      },
      "source": [
        "#ОБУЧЕНИЕ:\n",
        "model = models.resnet18(pretrained=True)\n",
        "\n",
        "# Disable grad for all conv layers\n",
        "for param in model.parameters():\n",
        "  param.require_grad = False\n",
        "  \n",
        "model.fc = torch.nn.Linear(model.fc.in_features, 68 * 2)"
      ],
      "execution_count": 11,
      "outputs": [
        {
          "output_type": "stream",
          "text": [
            "Downloading: \"https://download.pytorch.org/models/resnet18-5c106cde.pth\" to /root/.cache/torch/hub/checkpoints/resnet18-5c106cde.pth\n"
          ],
          "name": "stderr"
        },
        {
          "output_type": "display_data",
          "data": {
            "application/vnd.jupyter.widget-view+json": {
              "model_id": "0adb11191cc64321ab72b0640bcb3bfa",
              "version_minor": 0,
              "version_major": 2
            },
            "text/plain": [
              "HBox(children=(FloatProgress(value=0.0, max=46827520.0), HTML(value='')))"
            ]
          },
          "metadata": {
            "tags": []
          }
        },
        {
          "output_type": "stream",
          "text": [
            "\n"
          ],
          "name": "stdout"
        }
      ]
    },
    {
      "cell_type": "code",
      "metadata": {
        "id": "TGUXj59xwzEK"
      },
      "source": [
        "train_dataloader, test_dataloader = get_data_loaders()\n",
        "\n",
        "device = torch.device(\"cuda:0\")# if torch.cuda.is_available() else \"cpu\")\n",
        "model = model.to(device)\n",
        "\n",
        "loss = torch.nn.MSELoss()\n",
        "optimizer = torch.optim.Adam(model.parameters(), lr=1.0e-3)#, weight_decay=0.001)"
      ],
      "execution_count": 12,
      "outputs": []
    },
    {
      "cell_type": "code",
      "metadata": {
        "id": "GCOqF1XNQJPF",
        "outputId": "5ad4f647-36ef-4daf-95e6-5d8c2d515d95",
        "colab": {
          "base_uri": "https://localhost:8080/",
          "height": 1000
        }
      },
      "source": [
        "model.eval()\n",
        "\n",
        "batch_size = 32\n",
        "\n",
        "train_loss_history = []\n",
        "test_loss_history  = []\n",
        "\n",
        "for epoch in range(60):\n",
        "  \n",
        "    model.train()\n",
        "    losses = []\n",
        "\n",
        "    for i, (X, y) in enumerate(train_dataloader):\n",
        "\n",
        "      X = X.numpy()\n",
        "      X = np.repeat(X[..., np.newaxis], 3, -1).transpose(0,3,1,2)\n",
        "      X = torch.from_numpy(X)\n",
        "\n",
        "      X = X.to(device)\n",
        "      y = y.to(device)\n",
        "      \n",
        "      model.zero_grad()\n",
        "      y_pred = model.forward(X)\n",
        "      train_loss = loss(y_pred.view(-1, 68, 2), y)\n",
        "      losses.append(train_loss.item())\n",
        "      train_loss.backward()\n",
        "      optimizer.step()\n",
        "  \n",
        "      print(\"\\rtrain mse: %.4f\" % losses[-1], '\\t\\tepoch:', epoch+1, '\\t\\t(step: %i)' % i, end='')\n",
        "    \n",
        "    train_loss_history.append(np.mean(losses))\n",
        "    model.eval()\n",
        "    \n",
        "    print(\"\\rtrain mse: %.4f\" % train_loss_history[-1], '\\t\\tepoch:', epoch+1)\n",
        "\n",
        "\n",
        "\n",
        "\n",
        "    losses = []\n",
        "    for i, (X, y) in enumerate(test_dataloader):\n",
        "\n",
        "      X = X.numpy()\n",
        "      X = np.repeat(X[..., np.newaxis], 3, -1).transpose(0,3,1,2)\n",
        "      X = torch.from_numpy(X)\n",
        "\n",
        "      X = X.to(device)\n",
        "      y = y.to(device)\n",
        "      \n",
        "      y_pred = model.forward(X)\n",
        "      test_loss = loss(y_pred.view(-1, 68, 2), y)\n",
        "      losses.append(test_loss.item())\n",
        "      \n",
        "      print(\"\\rtest mse: %.4f\" % losses[-1], '\\t\\tepoch:', epoch+1, '\\t\\t(step: %i)' % i, end='')\n",
        "    \n",
        "    test_loss_history.append(np.mean(losses))\n",
        "    print(\"\\rtest mse: %.4f\" % test_loss_history[-1], '\\t\\tepoch:', epoch+1)\n",
        "    print()"
      ],
      "execution_count": 14,
      "outputs": [
        {
          "output_type": "stream",
          "text": [
            "train mse: 1153.0680 \t\tepoch: 1\n",
            "test mse: 150.5304 \t\tepoch: 1\n",
            "\n",
            "train mse: 32.5490 \t\tepoch: 2\n",
            "test mse: 17.5747 \t\tepoch: 2\n",
            "\n",
            "train mse: 14.4632 \t\tepoch: 3\n",
            "test mse: 16.0340 \t\tepoch: 3\n",
            "\n",
            "train mse: 14.2879 \t\tepoch: 4\n",
            "test mse: 20.3055 \t\tepoch: 4\n",
            "\n",
            "train mse: 14.0994 \t\tepoch: 5\n",
            "test mse: 19.3928 \t\tepoch: 5\n",
            "\n",
            "train mse: 13.4512 \t\tepoch: 6\n",
            "test mse: 13.6451 \t\tepoch: 6\n",
            "\n",
            "train mse: 10.8671 \t\tepoch: 7\n",
            "test mse: 11.1612 \t\tepoch: 7\n",
            "\n",
            "train mse: 9.3891 \t\tepoch: 8\n",
            "test mse: 15.1737 \t\tepoch: 8\n",
            "\n",
            "train mse: 8.4776 \t\tepoch: 9\n",
            "test mse: 9.5067 \t\tepoch: 9\n",
            "\n",
            "train mse: 7.6580 \t\tepoch: 10\n",
            "test mse: 11.1873 \t\tepoch: 10\n",
            "\n",
            "train mse: 5.9680 \t\tepoch: 11\n",
            "test mse: 5.9960 \t\tepoch: 11\n",
            "\n",
            "train mse: 5.0490 \t\tepoch: 12\n",
            "test mse: 5.6298 \t\tepoch: 12\n",
            "\n",
            "train mse: 4.4752 \t\tepoch: 13\n",
            "test mse: 5.0166 \t\tepoch: 13\n",
            "\n",
            "train mse: 3.8750 \t\tepoch: 14\n",
            "test mse: 4.7412 \t\tepoch: 14\n",
            "\n",
            "train mse: 3.3867 \t\tepoch: 15\n",
            "test mse: 4.1707 \t\tepoch: 15\n",
            "\n",
            "train mse: 3.0933 \t\tepoch: 16\n",
            "test mse: 4.1853 \t\tepoch: 16\n",
            "\n",
            "train mse: 2.6656 \t\tepoch: 17\n",
            "test mse: 4.1735 \t\tepoch: 17\n",
            "\n",
            "train mse: 2.4187 \t\tepoch: 18\n",
            "test mse: 3.5689 \t\tepoch: 18\n",
            "\n",
            "train mse: 2.2489 \t\tepoch: 19\n",
            "test mse: 3.1529 \t\tepoch: 19\n",
            "\n",
            "train mse: 2.0746 \t\tepoch: 20\n",
            "test mse: 3.3246 \t\tepoch: 20\n",
            "\n",
            "train mse: 2.0947 \t\tepoch: 21\n",
            "test mse: 3.1458 \t\tepoch: 21\n",
            "\n",
            "train mse: 1.9391 \t\tepoch: 22\n",
            "test mse: 3.6973 \t\tepoch: 22\n",
            "\n",
            "train mse: 1.8282 \t\tepoch: 23\n",
            "test mse: 3.5125 \t\tepoch: 23\n",
            "\n",
            "train mse: 1.8052 \t\tepoch: 24\n",
            "test mse: 3.2643 \t\tepoch: 24\n",
            "\n",
            "train mse: 1.6459 \t\tepoch: 25\n",
            "test mse: 3.1488 \t\tepoch: 25\n",
            "\n",
            "train mse: 1.6791 \t\tepoch: 26\n",
            "test mse: 3.1147 \t\tepoch: 26\n",
            "\n",
            "train mse: 1.8133 \t\tepoch: 27\n",
            "test mse: 3.1823 \t\tepoch: 27\n",
            "\n",
            "train mse: 1.6028 \t\tepoch: 28\n",
            "test mse: 4.4882 \t\tepoch: 28\n",
            "\n",
            "train mse: 1.5040 \t\tepoch: 29\n",
            "test mse: 2.6559 \t\tepoch: 29\n",
            "\n",
            "train mse: 1.3884 \t\tepoch: 30\n",
            "test mse: 2.5952 \t\tepoch: 30\n",
            "\n",
            "train mse: 1.3370 \t\tepoch: 31\n",
            "test mse: 3.2004 \t\tepoch: 31\n",
            "\n",
            "train mse: 1.3082 \t\tepoch: 32\n",
            "test mse: 3.2052 \t\tepoch: 32\n",
            "\n",
            "train mse: 1.2833 \t\tepoch: 33\n",
            "test mse: 3.5890 \t\tepoch: 33\n",
            "\n",
            "train mse: 1.3950 \t\tepoch: 34\n",
            "test mse: 3.0501 \t\tepoch: 34\n",
            "\n",
            "train mse: 1.2655 \t\tepoch: 35\n",
            "test mse: 2.6295 \t\tepoch: 35\n",
            "\n",
            "train mse: 1.1816 \t\tepoch: 36\n",
            "test mse: 2.8457 \t\tepoch: 36\n",
            "\n",
            "train mse: 1.1451 \t\tepoch: 37\n",
            "test mse: 2.4404 \t\tepoch: 37\n",
            "\n",
            "train mse: 1.0825 \t\tepoch: 38\n",
            "test mse: 2.5532 \t\tepoch: 38\n",
            "\n",
            "train mse: 1.1467 \t\tepoch: 39\n",
            "test mse: 2.5244 \t\tepoch: 39\n",
            "\n",
            "train mse: 1.0899 \t\tepoch: 40\n",
            "test mse: 2.6583 \t\tepoch: 40\n",
            "\n",
            "train mse: 1.0023 \t\tepoch: 41\n",
            "test mse: 2.7192 \t\tepoch: 41\n",
            "\n",
            "train mse: 1.0134 \t\tepoch: 42\n",
            "test mse: 2.6877 \t\tepoch: 42\n",
            "\n",
            "train mse: 1.0327 \t\tepoch: 43\n",
            "test mse: 2.4385 \t\tepoch: 43\n",
            "\n",
            "train mse: 0.9986 \t\tepoch: 44\n",
            "test mse: 2.4619 \t\tepoch: 44\n",
            "\n",
            "train mse: 1.0136 \t\tepoch: 45\n",
            "test mse: 2.5527 \t\tepoch: 45\n",
            "\n",
            "train mse: 0.9966 \t\tepoch: 46\n",
            "test mse: 2.7886 \t\tepoch: 46\n",
            "\n",
            "train mse: 0.9515 \t\tepoch: 47\n",
            "test mse: 2.4553 \t\tepoch: 47\n",
            "\n",
            "train mse: 0.9830 \t\tepoch: 48\n",
            "test mse: 2.5663 \t\tepoch: 48\n",
            "\n",
            "train mse: 0.9260 \t\tepoch: 49\n",
            "test mse: 2.4741 \t\tepoch: 49\n",
            "\n",
            "train mse: 0.9816 \t\tepoch: 50\n",
            "test mse: 2.5523 \t\tepoch: 50\n",
            "\n",
            "train mse: 0.9927 \t\tepoch: 51\n",
            "test mse: 2.5090 \t\tepoch: 51\n",
            "\n",
            "train mse: 1.0082 \t\tepoch: 52\n",
            "test mse: 2.6997 \t\tepoch: 52\n",
            "\n",
            "train mse: 0.9134 \t\tepoch: 53\n",
            "test mse: 2.5201 \t\tepoch: 53\n",
            "\n",
            "train mse: 0.9234 \t\tepoch: 54\n",
            "test mse: 2.4438 \t\tepoch: 54\n",
            "\n",
            "train mse: 0.9253 \t\tepoch: 55\n",
            "test mse: 2.5828 \t\tepoch: 55\n",
            "\n",
            "train mse: 0.8546 \t\tepoch: 56\n",
            "test mse: 3.0826 \t\tepoch: 56\n",
            "\n",
            "train mse: 1.0289 \t\tepoch: 57\n",
            "test mse: 2.5189 \t\tepoch: 57\n",
            "\n",
            "train mse: 0.9987 \t\tepoch: 58\n",
            "test mse: 2.4725 \t\tepoch: 58\n",
            "\n",
            "train mse: 0.9006 \t\tepoch: 59\n",
            "test mse: 2.4371 \t\tepoch: 59\n",
            "\n",
            "train mse: 0.7993 \t\tepoch: 60\n",
            "test mse: 2.5212 \t\tepoch: 60\n",
            "\n"
          ],
          "name": "stdout"
        }
      ]
    },
    {
      "cell_type": "code",
      "metadata": {
        "id": "cXY6tVVMKYDk",
        "outputId": "dca3f49e-0bb8-439f-e788-fbac6c79be8b",
        "colab": {
          "base_uri": "https://localhost:8080/",
          "height": 458
        }
      },
      "source": [
        "fig, ax = plt.subplots(1, figsize=(20,7))\n",
        "\n",
        "ax.plot(train_loss_history[2:], label='train')\n",
        "ax.plot(test_loss_history[2:],  label='test')\n",
        "\n",
        "ax.set_xlabel('epoch')\n",
        "ax.set_ylabel('loss')\n",
        "ax.set_title('MSE loss')\n",
        "ax.legend()\n",
        "ax.grid()"
      ],
      "execution_count": 24,
      "outputs": [
        {
          "output_type": "display_data",
          "data": {
            "image/png": "[encoded data removed]",
            "text/plain": [
              "<Figure size 1440x504 with 1 Axes>"
            ]
          },
          "metadata": {
            "tags": [],
            "needs_background": "light"
          }
        }
      ]
    },
    {
      "cell_type": "code",
      "metadata": {
        "id": "XosMPwyrMyUD",
        "outputId": "c126a591-1a3e-4f90-dede-bc36d4625dee",
        "colab": {
          "base_uri": "https://localhost:8080/",
          "height": 34
        }
      },
      "source": [
        "y_pred.shape"
      ],
      "execution_count": 30,
      "outputs": [
        {
          "output_type": "execute_result",
          "data": {
            "text/plain": [
              "(2, 136)"
            ]
          },
          "metadata": {
            "tags": []
          },
          "execution_count": 30
        }
      ]
    },
    {
      "cell_type": "code",
      "metadata": {
        "id": "bzMfFQPgKFA2",
        "outputId": "c3152fda-97c5-4f27-8dda-e72cfa0a529e",
        "colab": {
          "base_uri": "https://localhost:8080/",
          "height": 263
        }
      },
      "source": [
        "_, test_dataloader = get_data_loaders(val_batch_size=2)\n",
        "\n",
        "images_batch = next(iter(test_dataloader))\n",
        "X, y = images_batch\n",
        "\n",
        "X = X.cpu().numpy()\n",
        "X = np.repeat(X[..., np.newaxis], 3, -1).transpose(0,3,1,2)\n",
        "X = torch.from_numpy(X)\n",
        "\n",
        "X = X.to(device)\n",
        "y = y.to(device)\n",
        "\n",
        "y_pred = model(X)\n",
        "y_pred = y_pred.data.cpu().numpy().reshape(-1, 68, 2)\n",
        "show_landmarks_batch(images_batch, y_pred)"
      ],
      "execution_count": 31,
      "outputs": [
        {
          "output_type": "stream",
          "text": [
            "(2, 96, 96)\n"
          ],
          "name": "stdout"
        },
        {
          "output_type": "display_data",
          "data": {
            "image/png": "[encoded data removed]",
            "text/plain": [
              "<Figure size 432x288 with 1 Axes>"
            ]
          },
          "metadata": {
            "tags": [],
            "needs_background": "light"
          }
        }
      ]
    },
    {
      "cell_type": "markdown",
      "metadata": {
        "id": "WXsdRhSsM6_o"
      },
      "source": [
        "TEST (MSE) score: 2.5212 "
      ]
    }
  ]
}